{
  "cells": [
    {
      "cell_type": "markdown",
      "metadata": {
        "id": "view-in-github",
        "colab_type": "text"
      },
      "source": [
        "<a href=\"https://colab.research.google.com/github/alekhya571/amritaHealthCare/blob/main/20109_FDS_Assignment_1.ipynb\" target=\"_parent\"><img src=\"https://colab.research.google.com/assets/colab-badge.svg\" alt=\"Open In Colab\"/></a>"
      ]
    },
    {
      "cell_type": "code",
      "execution_count": null,
      "metadata": {
        "colab": {
          "base_uri": "https://localhost:8080/"
        },
        "id": "xuU1mwW1eWi-",
        "outputId": "9e366223-f572-4c30-95f7-46cb62438d9f"
      },
      "outputs": [
        {
          "output_type": "stream",
          "name": "stdout",
          "text": [
            "('222', 11, 22, 'aman')\n"
          ]
        }
      ],
      "source": [
        "#1\n",
        "sets={\"aman\",\"222\",11,22}\n",
        "tup = tuple(sets)\n",
        "print(tup)"
      ]
    },
    {
      "cell_type": "code",
      "execution_count": null,
      "metadata": {
        "colab": {
          "base_uri": "https://localhost:8080/"
        },
        "id": "7OX2oYORfSyG",
        "outputId": "5fbd59cf-825d-4f01-ebc8-5388049a5cf7"
      },
      "outputs": [
        {
          "name": "stdout",
          "output_type": "stream",
          "text": [
            "{'Rollno': 'CB.EN.U4CSE20109', 'First Name': 'Arvapalli', 'Last Name': 'Alekhya', 'DOB': '29/05/2003'}\n"
          ]
        }
      ],
      "source": [
        "#2\n",
        "dictn = {\"Rollno\":\"CB.EN.U4CSE20109\", \"First Name\": \"Arvapalli\", \"Last Name\": \"Alekhya\", \"DOB\":\"29/05/2003\"}\n",
        "print(dictn)"
      ]
    },
    {
      "cell_type": "code",
      "execution_count": null,
      "metadata": {
        "colab": {
          "base_uri": "https://localhost:8080/"
        },
        "id": "p6q8S9EP6jfi",
        "outputId": "eb1e99b0-e197-4b78-dd34-05c7ad04263b"
      },
      "outputs": [
        {
          "output_type": "stream",
          "name": "stdout",
          "text": [
            "[[0.4359949  0.02592623 0.54966248 0.43532239 0.4203678 ]\n",
            " [0.33033482 0.20464863 0.61927097 0.29965467 0.26682728]\n",
            " [0.62113383 0.52914209 0.13457995 0.51357812 0.18443987]]\n"
          ]
        }
      ],
      "source": [
        "#3\n",
        "import numpy as np\n",
        "np.random.seed(2)\n",
        "r= np.random.rand(3,5)\n",
        "print(r)"
      ]
    },
    {
      "cell_type": "code",
      "execution_count": null,
      "metadata": {
        "colab": {
          "base_uri": "https://localhost:8080/"
        },
        "id": "uIEmCbSl7ki_",
        "outputId": "31a1e9ab-a7b6-4466-c205-ae6ecadb2283"
      },
      "outputs": [
        {
          "output_type": "stream",
          "name": "stdout",
          "text": [
            "0.015847980987949484\n",
            "1234\n"
          ]
        }
      ],
      "source": [
        "#4\n",
        "import random\n",
        "n = random.uniform(0.0,1.0)\n",
        "print(n)\n",
        "print(abs(-1234))"
      ]
    },
    {
      "cell_type": "code",
      "execution_count": null,
      "metadata": {
        "colab": {
          "base_uri": "https://localhost:8080/"
        },
        "id": "TurH1tmp8hkH",
        "outputId": "a75e0794-43f8-42fe-ecb1-6669d279cb6a"
      },
      "outputs": [
        {
          "output_type": "stream",
          "name": "stdout",
          "text": [
            "60\n"
          ]
        }
      ],
      "source": [
        "#5\n",
        "import random\n",
        "n = random.randint(20,90)\n",
        "print(n)"
      ]
    },
    {
      "cell_type": "code",
      "execution_count": null,
      "metadata": {
        "colab": {
          "base_uri": "https://localhost:8080/"
        },
        "id": "pTmy5tz8W_n6",
        "outputId": "12f0137e-87c1-4de4-dd85-5ae5549f2dda"
      },
      "outputs": [
        {
          "output_type": "stream",
          "name": "stdout",
          "text": [
            "[12, 13, 14]\n",
            "[15, 11, 12, 14, 13]\n",
            "[14]\n"
          ]
        }
      ],
      "source": [
        "#6\n",
        "import random\n",
        "import numpy as np\n",
        "l = [11, 12, 13,14, 15]\n",
        "print(random.sample(l, 3)) #unique elements\n",
        "random.shuffle(l)\n",
        "print(l)\n",
        "print(np.random.choice(l,1)) #may repeat"
      ]
    },
    {
      "cell_type": "code",
      "source": [
        "#7\n",
        "file1 = open(\"MyFile.txt\",\"w\")\n",
        "str1= \"The King is Dead, Long Live The King\" \n",
        "file1.write(str1)\n",
        "file1.close()\n",
        "file1 = open(\"MyFile.txt\",\"r\")\n",
        "print(file1.read())\n",
        "file1.close()"
      ],
      "metadata": {
        "id": "K6K0XRiertyz",
        "colab": {
          "base_uri": "https://localhost:8080/"
        },
        "outputId": "d9730278-48fc-4950-f43b-34e6d2b03eb2"
      },
      "execution_count": null,
      "outputs": [
        {
          "output_type": "stream",
          "name": "stdout",
          "text": [
            "The King is Dead, Long Live The King\n"
          ]
        }
      ]
    },
    {
      "cell_type": "code",
      "source": [
        "#8\n",
        "pass_score = 50\n",
        "my_score = 70\n",
        "if my_score>pass_score:\n",
        "  print(\"You have passed exam\")\n",
        "  print(\"Congratulations!!\")\n",
        "else:\n",
        "  print(\"You have failed exam\")\n",
        "  print(\"Better luck next time!!\")"
      ],
      "metadata": {
        "colab": {
          "base_uri": "https://localhost:8080/"
        },
        "id": "KYFU-vOSyZKU",
        "outputId": "2e12887f-6ca1-40ac-8e50-d2eeab4dba72"
      },
      "execution_count": null,
      "outputs": [
        {
          "output_type": "stream",
          "name": "stdout",
          "text": [
            "You have passed exam\n",
            "Congratulations!!\n"
          ]
        }
      ]
    },
    {
      "cell_type": "code",
      "source": [
        "#9\n",
        "str_1 = \"The King is Dead, Long Live The King\" \n",
        "print(str_1)\n",
        "print(str_1[0])\n",
        "print(str_1[2:6])\n",
        "print(str_1[2:])\n",
        "print(str_1.split())"
      ],
      "metadata": {
        "colab": {
          "base_uri": "https://localhost:8080/"
        },
        "id": "ImJZf7QOy2nM",
        "outputId": "84a415e2-0509-4191-896c-d9a1ad813fda"
      },
      "execution_count": null,
      "outputs": [
        {
          "output_type": "stream",
          "name": "stdout",
          "text": [
            "The King is Dead, Long Live The King\n",
            "T\n",
            "e Ki\n",
            "e King is Dead, Long Live The King\n",
            "['The', 'King', 'is', 'Dead,', 'Long', 'Live', 'The', 'King']\n"
          ]
        }
      ]
    },
    {
      "cell_type": "code",
      "source": [
        "#10\n",
        "import numpy as np\n",
        "arr = np.array([1,4,5,8])\n",
        "print(arr[0:1],arr[1:2])"
      ],
      "metadata": {
        "colab": {
          "base_uri": "https://localhost:8080/"
        },
        "id": "cVmiHTx3zd7g",
        "outputId": "708b1ec7-ec26-40e5-f6aa-ced6b4147796"
      },
      "execution_count": 12,
      "outputs": [
        {
          "output_type": "stream",
          "name": "stdout",
          "text": [
            "[1] [4]\n"
          ]
        }
      ]
    },
    {
      "cell_type": "code",
      "source": [
        "#11\n",
        "arr = [[1,2,3],[4,5,6]]\n",
        "print(arr)"
      ],
      "metadata": {
        "colab": {
          "base_uri": "https://localhost:8080/"
        },
        "id": "6kEq0zcezn-x",
        "outputId": "735c8175-7233-4f30-f066-b725969003fd"
      },
      "execution_count": 17,
      "outputs": [
        {
          "output_type": "stream",
          "name": "stdout",
          "text": [
            "[[1, 2, 3], [4, 5, 6]]\n"
          ]
        }
      ]
    },
    {
      "cell_type": "code",
      "source": [
        "#12\n",
        "arr = [[1,2,3],[4,5,6]]\n",
        "print(arr)\n",
        "print(arr[1:])\n",
        "for i in arr:\n",
        "  print(i[1:])\n",
        "print(len(arr))"
      ],
      "metadata": {
        "colab": {
          "base_uri": "https://localhost:8080/"
        },
        "id": "JOHlfcxl1Bf4",
        "outputId": "21c1d6cb-c22c-49b9-9063-638af1d3fad5"
      },
      "execution_count": 16,
      "outputs": [
        {
          "output_type": "stream",
          "name": "stdout",
          "text": [
            "[[1, 2, 3], [4, 5, 6]]\n",
            "[[4, 5, 6]]\n",
            "[2, 3]\n",
            "[5, 6]\n",
            "2\n"
          ]
        }
      ]
    },
    {
      "cell_type": "code",
      "source": [
        "#13\n",
        "x=np.array([1,2,3,4,5,6,7,8,9,10])\n",
        "x.shape=(2,5)\n",
        "print(x)"
      ],
      "metadata": {
        "colab": {
          "base_uri": "https://localhost:8080/"
        },
        "id": "eM-4HWGnz5f6",
        "outputId": "8cf36437-128b-4584-b6bc-8338b3c58300"
      },
      "execution_count": null,
      "outputs": [
        {
          "output_type": "stream",
          "name": "stdout",
          "text": [
            "[[ 1  2  3  4  5]\n",
            " [ 6  7  8  9 10]]\n"
          ]
        }
      ]
    },
    {
      "cell_type": "code",
      "source": [
        "#14\n",
        "list_1=[1,2,3]\n",
        "x=np.array(list_1)\n",
        "print(x)"
      ],
      "metadata": {
        "colab": {
          "base_uri": "https://localhost:8080/"
        },
        "id": "mwkjWhH212o5",
        "outputId": "c013ed31-4a51-42f3-83ae-07912d0025bd"
      },
      "execution_count": null,
      "outputs": [
        {
          "output_type": "stream",
          "name": "stdout",
          "text": [
            "[1 2 3]\n"
          ]
        }
      ]
    },
    {
      "cell_type": "code",
      "source": [
        "#15\n",
        "arr = np.array([1,2,3])\n",
        "arr.fill(9)\n",
        "print(arr)"
      ],
      "metadata": {
        "colab": {
          "base_uri": "https://localhost:8080/"
        },
        "id": "n0jhpvZR19vJ",
        "outputId": "afad6542-ec1a-4c45-a02b-90262afb658f"
      },
      "execution_count": null,
      "outputs": [
        {
          "output_type": "stream",
          "name": "stdout",
          "text": [
            "[9 9 9]\n"
          ]
        }
      ]
    },
    {
      "cell_type": "code",
      "source": [
        "#16\n",
        "arr = np.array([2,4,5])\n",
        "print(\"Sum of all elements in array:\")\n",
        "print(np.sum(arr))"
      ],
      "metadata": {
        "colab": {
          "base_uri": "https://localhost:8080/"
        },
        "id": "pwmGMPZU2Zcs",
        "outputId": "eb2c8ebc-f8b0-4dad-82a2-e2b3b194df56"
      },
      "execution_count": null,
      "outputs": [
        {
          "output_type": "stream",
          "name": "stdout",
          "text": [
            "Sum of all elements in array:\n",
            "11\n"
          ]
        }
      ]
    },
    {
      "cell_type": "code",
      "source": [
        "#17\n",
        "arr = np.array([2,4,5])\n",
        "print(\"Product of all elements in array:\")\n",
        "print(np.prod(arr))"
      ],
      "metadata": {
        "colab": {
          "base_uri": "https://localhost:8080/"
        },
        "id": "P5397-SZ2mUR",
        "outputId": "3de2c7c4-0b96-452c-eaa8-1b97ff0a4b70"
      },
      "execution_count": null,
      "outputs": [
        {
          "output_type": "stream",
          "name": "stdout",
          "text": [
            "Product of all elements in array:\n",
            "40\n"
          ]
        }
      ]
    },
    {
      "cell_type": "code",
      "source": [
        "#18\n",
        "import numpy as np\n",
        "arr=np.array([2,1,9,1,2,22,1,1,4,55,6,2,56])\n",
        "print(np.mean(arr),np.var(arr),np.amax(arr),np.amin(arr),np.argmin(arr),np.argmax(arr),np.median(arr),np.std(arr))"
      ],
      "metadata": {
        "id": "wypddwNb3Axt",
        "colab": {
          "base_uri": "https://localhost:8080/"
        },
        "outputId": "03073c3a-925c-43ab-df1c-69ff77225556"
      },
      "execution_count": 2,
      "outputs": [
        {
          "output_type": "stream",
          "name": "stdout",
          "text": [
            "12.461538461538462 367.32544378698225 56 1 1 12 2.0 19.165736192147232\n"
          ]
        }
      ]
    },
    {
      "cell_type": "code",
      "source": [
        "#19\n",
        "arr = np.array([1, 1, 4, 5, 5, 5, 7] )\n",
        "print(np.unique(arr))"
      ],
      "metadata": {
        "colab": {
          "base_uri": "https://localhost:8080/"
        },
        "id": "RfrAgaufvjSP",
        "outputId": "4fad9bb6-b1db-4aa5-8119-854c77bf1368"
      },
      "execution_count": 3,
      "outputs": [
        {
          "output_type": "stream",
          "name": "stdout",
          "text": [
            "[1 4 5 7]\n"
          ]
        }
      ]
    },
    {
      "cell_type": "code",
      "source": [
        "#20\n",
        "arr1 = np.array([1, 2, 3])\n",
        "arr2 = np.array([0, 1, 1])\n",
        "print(np.dot(arr1,arr2))"
      ],
      "metadata": {
        "colab": {
          "base_uri": "https://localhost:8080/"
        },
        "id": "nszUfoyfvjgW",
        "outputId": "26a0247c-ccfc-4303-b6f3-d92a80517103"
      },
      "execution_count": 4,
      "outputs": [
        {
          "output_type": "stream",
          "name": "stdout",
          "text": [
            "5\n"
          ]
        }
      ]
    },
    {
      "cell_type": "code",
      "source": [
        "#21\n",
        "mat = np.array([[2, 2, 4], \n",
        "              [1, 3, 5],\n",
        "              [2, 3, 4]])\n",
        "evalues, evectors = np.linalg.eig(mat)\n",
        "print(\"Eigen Values: \", evalues)\n",
        "print(\"Eigen Vectors: \", evectors)"
      ],
      "metadata": {
        "colab": {
          "base_uri": "https://localhost:8080/"
        },
        "id": "k8xY11-JxA0d",
        "outputId": "403190ea-48ce-4dda-f082-0d5d9c258ba0"
      },
      "execution_count": 9,
      "outputs": [
        {
          "output_type": "stream",
          "name": "stdout",
          "text": [
            "Eigen Values:  [ 8.80916362  0.92620912 -0.73537273]\n",
            "Eigen Vectors:  [[-0.52799324 -0.77557092 -0.36272811]\n",
            " [-0.604391    0.62277013 -0.7103262 ]\n",
            " [-0.59660259 -0.10318482  0.60321224]]\n"
          ]
        }
      ]
    },
    {
      "cell_type": "code",
      "source": [
        "#22\n",
        "x_sim = np.array([11, 22, 11, 31])\n",
        "y_sim = np.array([25, 33, 31, 28])\n",
        "my_rho = np.corrcoef(x_sim, y_sim)\n",
        "\n",
        "print(my_rho)"
      ],
      "metadata": {
        "colab": {
          "base_uri": "https://localhost:8080/"
        },
        "id": "TL6g3SWixK4l",
        "outputId": "9e8b23f4-f245-4186-cf76-525c4178451f"
      },
      "execution_count": 10,
      "outputs": [
        {
          "output_type": "stream",
          "name": "stdout",
          "text": [
            "[[1.         0.15997968]\n",
            " [0.15997968 1.        ]]\n"
          ]
        }
      ]
    }
  ],
  "metadata": {
    "colab": {
      "provenance": [],
      "collapsed_sections": [],
      "authorship_tag": "ABX9TyMZ09oMO2Ttyq4Q3FFy7lyv",
      "include_colab_link": true
    },
    "kernelspec": {
      "display_name": "Python 3",
      "name": "python3"
    },
    "language_info": {
      "name": "python"
    }
  },
  "nbformat": 4,
  "nbformat_minor": 0
}